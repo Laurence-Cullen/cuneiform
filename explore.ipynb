{
 "cells": [
  {
   "cell_type": "code",
   "execution_count": 1,
   "metadata": {},
   "outputs": [],
   "source": [
    "import pandas as pd\n",
    "import pandas_profiling"
   ]
  },
  {
   "cell_type": "code",
   "execution_count": null,
   "metadata": {
    "scrolled": false
   },
   "outputs": [],
   "source": [
    "corpus = pd.read_csv('data/cdli_catalogue.csv', error_bad_lines=False)\n",
    "# corpus = pd.read_pickle('transliterations_raw.pickle')\n",
    "pandas_profiling.ProfileReport(corpus)\n",
    "\n",
    "\n",
    "# useful_fields = [\n",
    "#     'language', 'genre', 'subgenre', 'subgenre_remarks', 'collection', 'author',\n",
    "#     'date_entered', 'material', 'object_type', 'period', 'provenience', 'width', 'thickness'\n",
    "# ]\n"
   ]
  }
 ],
 "metadata": {
  "kernelspec": {
   "display_name": "Python 3",
   "language": "python",
   "name": "python3"
  },
  "language_info": {
   "codemirror_mode": {
    "name": "ipython",
    "version": 3
   },
   "file_extension": ".py",
   "mimetype": "text/x-python",
   "name": "python",
   "nbconvert_exporter": "python",
   "pygments_lexer": "ipython3",
   "version": "3.6.7"
  }
 },
 "nbformat": 4,
 "nbformat_minor": 2
}
